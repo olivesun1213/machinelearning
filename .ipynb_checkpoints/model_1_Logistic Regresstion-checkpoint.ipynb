{
 "cells": [
  {
   "cell_type": "code",
   "execution_count": 1,
   "metadata": {},
   "outputs": [
    {
     "name": "stdout",
     "output_type": "stream",
     "text": [
      "Requirement already up-to-date: sklearn in c:\\users\\osun\\anaconda3\\envs\\pythonadv\\lib\\site-packages (0.0)\n",
      "Requirement already satisfied, skipping upgrade: scikit-learn in c:\\users\\osun\\anaconda3\\envs\\pythonadv\\lib\\site-packages (from sklearn) (0.23.1)\n",
      "Requirement already satisfied, skipping upgrade: joblib>=0.11 in c:\\users\\osun\\anaconda3\\envs\\pythonadv\\lib\\site-packages (from scikit-learn->sklearn) (0.15.1)\n",
      "Requirement already satisfied, skipping upgrade: numpy>=1.13.3 in c:\\users\\osun\\anaconda3\\envs\\pythonadv\\lib\\site-packages (from scikit-learn->sklearn) (1.18.5)\n",
      "Requirement already satisfied, skipping upgrade: scipy>=0.19.1 in c:\\users\\osun\\anaconda3\\envs\\pythonadv\\lib\\site-packages (from scikit-learn->sklearn) (1.5.0)\n",
      "Requirement already satisfied, skipping upgrade: threadpoolctl>=2.0.0 in c:\\users\\osun\\anaconda3\\envs\\pythonadv\\lib\\site-packages (from scikit-learn->sklearn) (2.1.0)\n"
     ]
    }
   ],
   "source": [
    "# Update sklearn to prevent version mismatches\n",
    "!pip install sklearn --upgrade"
   ]
  },
  {
   "cell_type": "code",
   "execution_count": 2,
   "metadata": {},
   "outputs": [
    {
     "name": "stdout",
     "output_type": "stream",
     "text": [
      "Requirement already satisfied: joblib in c:\\users\\osun\\anaconda3\\envs\\pythonadv\\lib\\site-packages (0.15.1)\n"
     ]
    }
   ],
   "source": [
    "# install joblib. This will be used to save your model. \n",
    "# Restart your kernel after installing \n",
    "!pip install joblib"
   ]
  },
  {
   "cell_type": "code",
   "execution_count": 3,
   "metadata": {},
   "outputs": [],
   "source": [
    "import pandas as pd\n",
    "import numpy as np\n",
    "from sklearn.model_selection import train_test_split, GridSearchCV\n",
    "from sklearn.preprocessing import MinMaxScaler\n",
    "from sklearn.linear_model import LogisticRegression\n",
    "from sklearn.feature_selection import RFECV\n",
    "import joblib"
   ]
  },
  {
   "cell_type": "markdown",
   "metadata": {},
   "source": [
    "# Read the CSV and Perform Basic Data Cleaning"
   ]
  },
  {
   "cell_type": "code",
   "execution_count": 4,
   "metadata": {},
   "outputs": [],
   "source": [
    "df = pd.read_csv(\"exoplanet_data.csv\")\n",
    "# Drop the null columns where all values are null\n",
    "df = df.dropna(axis='columns', how='all')\n",
    "# Drop the null rows\n",
    "df = df.dropna()\n",
    "\n",
    "\n",
    "# Convert interger to float for all columns\n",
    "for column, content in df.items():\n",
    "    if df[column].dtype == 'int64':\n",
    "        df = df.astype({column: 'float64'})"
   ]
  },
  {
   "cell_type": "markdown",
   "metadata": {},
   "source": [
    "# Select your features (columns)"
   ]
  },
  {
   "cell_type": "code",
   "execution_count": 5,
   "metadata": {},
   "outputs": [],
   "source": [
    "# pre processing data\n",
    "# Assign x & y\n",
    "x = df.drop(\"koi_disposition\", axis=1)\n",
    "y = df[\"koi_disposition\"]\n",
    "\n",
    "# Split into training and testing\n",
    "x_train, x_test, y_train, y_test = train_test_split(x, y, random_state=42, stratify=y)"
   ]
  },
  {
   "cell_type": "code",
   "execution_count": 6,
   "metadata": {},
   "outputs": [],
   "source": [
    "# Scale X values\n",
    "x_scaler = MinMaxScaler().fit(x_train)\n",
    "x_train_scaled = x_scaler.transform(x_train)\n",
    "x_test_scaled = x_scaler.transform(x_test)"
   ]
  },
  {
   "cell_type": "code",
   "execution_count": 8,
   "metadata": {},
   "outputs": [
    {
     "name": "stdout",
     "output_type": "stream",
     "text": [
      "Training Data Score: 85.504 %\n",
      "Testing Data Score: 86.213 %\n"
     ]
    }
   ],
   "source": [
    "model_one = LogisticRegression(solver='newton-cg', multi_class='auto')\n",
    "model_one.fit(x_train_scaled, y_train)\n",
    "\n",
    "model_one_training_score = round(model_one.score(x_train_scaled, y_train)*100,3)\n",
    "test_score = round(model_one.score(x_test_scaled, y_test)*100,3)\n",
    "\n",
    "print(f\"Training Data Score: {model_one_training_score} %\")\n",
    "print(f\"Testing Data Score: {test_score} %\")"
   ]
  },
  {
   "cell_type": "code",
   "execution_count": 9,
   "metadata": {},
   "outputs": [],
   "source": [
    "# Evaluate features\n",
    "feature_names = x.columns.tolist()\n",
    "selector = RFECV(estimator=model_one, cv=5, step=1)\n",
    "_ = selector.fit(x_train_scaled, y_train)\n",
    "\n",
    "\n",
    "# choose features\n",
    "selected_features = sorted(zip(selector.ranking_, feature_names))\n",
    "# rank features\n",
    "rank = pd.DataFrame(selected_features, columns=['Ranking', 'Feature'])\n",
    "# set index to feature\n",
    "rank = rank.set_index('Feature')\n"
   ]
  },
  {
   "cell_type": "code",
   "execution_count": 10,
   "metadata": {},
   "outputs": [],
   "source": [
    "# Remove features with Ranking > 12\n",
    "final_selected_features = []\n",
    "for i in selected_features:\n",
    "    if i[0] < 13:\n",
    "        final_selected_features.append(i[1])\n"
   ]
  },
  {
   "cell_type": "code",
   "execution_count": 14,
   "metadata": {},
   "outputs": [
    {
     "name": "stdout",
     "output_type": "stream",
     "text": [
      "Training Data Score: 85.504 %\n",
      "Testing Data Score: 86.213 %\n"
     ]
    }
   ],
   "source": [
    "# Use selected features for all models \n",
    "## Assign new data to X \n",
    "x_train_selected = x_train[final_selected_features]\n",
    "x_test_selected = x_test[final_selected_features]\n",
    "\n",
    "x_scaler = MinMaxScaler().fit(x_train_selected)\n",
    "x_train_scaled = x_scaler.transform(x_train_selected)\n",
    "x_test_scaled = x_scaler.transform(x_test_selected)\n",
    "\n",
    "## Train model\n",
    "model_two = LogisticRegression(solver='newton-cg', multi_class='auto')\n",
    "model_two.fit(x_train_scaled, y_train)\n",
    "\n",
    "model_two_training_score = round(model_two.score(x_train_scaled, y_train)*100,3)\n",
    "test_score_two = round(model_two.score(x_test_scaled, y_test)*100,3)\n",
    "\n",
    "print(f\"Training Data Score: {model_two_training_score} %\")\n",
    "print(f\"Testing Data Score: {test_score_two} %\")"
   ]
  },
  {
   "cell_type": "code",
   "execution_count": 16,
   "metadata": {},
   "outputs": [],
   "source": [
    "# Create the GridSearchCV model\n",
    "model_three = LogisticRegression(solver='newton-cg', multi_class='auto')\n",
    "\n",
    "param_grid = {\n",
    "    'C': np.logspace(0, 4, 10),\n",
    "    'penalty': ['l2']\n",
    "}\n",
    "grid = GridSearchCV(model_three, param_grid, cv=5, verbose=0)\n",
    "\n",
    "# Train the model with GridSearch\n",
    "_ = grid.fit(x_train_scaled, y_train)"
   ]
  },
  {
   "cell_type": "code",
   "execution_count": 17,
   "metadata": {},
   "outputs": [
    {
     "name": "stdout",
     "output_type": "stream",
     "text": [
      "Training Data Score: 88.709 %\n",
      "Testing Data Score: 89.474 %\n"
     ]
    }
   ],
   "source": [
    "# Tune parameters\n",
    "C = grid.best_params_['C']\n",
    "penalty = grid.best_params_['penalty']\n",
    "\n",
    "# Tune model\n",
    "model_four = LogisticRegression(solver='newton-cg', multi_class='auto',\n",
    "                                 C=C, penalty=penalty)\n",
    "model_four.fit(x_train_scaled, y_train)\n",
    "\n",
    "model_three_training_score = round(model_four.score(x_train_scaled, y_train)*100,3)\n",
    "test_score_three = round(model_four.score(x_test_scaled, y_test)*100,3)\n",
    "\n",
    "print(f\"Training Data Score: {model_three_training_score} %\")\n",
    "print(f\"Testing Data Score: {test_score_three} %\")"
   ]
  },
  {
   "cell_type": "code",
   "execution_count": 20,
   "metadata": {},
   "outputs": [
    {
     "data": {
      "text/html": [
       "<div>\n",
       "<style scoped>\n",
       "    .dataframe tbody tr th:only-of-type {\n",
       "        vertical-align: middle;\n",
       "    }\n",
       "\n",
       "    .dataframe tbody tr th {\n",
       "        vertical-align: top;\n",
       "    }\n",
       "\n",
       "    .dataframe thead th {\n",
       "        text-align: right;\n",
       "    }\n",
       "</style>\n",
       "<table border=\"1\" class=\"dataframe\">\n",
       "  <thead>\n",
       "    <tr style=\"text-align: right;\">\n",
       "      <th></th>\n",
       "      <th>Actual</th>\n",
       "      <th>Prediction</th>\n",
       "    </tr>\n",
       "  </thead>\n",
       "  <tbody>\n",
       "    <tr>\n",
       "      <th>0</th>\n",
       "      <td>CANDIDATE</td>\n",
       "      <td>CANDIDATE</td>\n",
       "    </tr>\n",
       "    <tr>\n",
       "      <th>1</th>\n",
       "      <td>FALSE POSITIVE</td>\n",
       "      <td>FALSE POSITIVE</td>\n",
       "    </tr>\n",
       "    <tr>\n",
       "      <th>2</th>\n",
       "      <td>FALSE POSITIVE</td>\n",
       "      <td>FALSE POSITIVE</td>\n",
       "    </tr>\n",
       "    <tr>\n",
       "      <th>3</th>\n",
       "      <td>FALSE POSITIVE</td>\n",
       "      <td>FALSE POSITIVE</td>\n",
       "    </tr>\n",
       "    <tr>\n",
       "      <th>4</th>\n",
       "      <td>CANDIDATE</td>\n",
       "      <td>CANDIDATE</td>\n",
       "    </tr>\n",
       "  </tbody>\n",
       "</table>\n",
       "</div>"
      ],
      "text/plain": [
       "           Actual      Prediction\n",
       "0       CANDIDATE       CANDIDATE\n",
       "1  FALSE POSITIVE  FALSE POSITIVE\n",
       "2  FALSE POSITIVE  FALSE POSITIVE\n",
       "3  FALSE POSITIVE  FALSE POSITIVE\n",
       "4       CANDIDATE       CANDIDATE"
      ]
     },
     "execution_count": 20,
     "metadata": {},
     "output_type": "execute_result"
    }
   ],
   "source": [
    "predictions = model_four.predict(x_test_scaled)\n",
    "classifications = y_test.unique().tolist()\n",
    "\n",
    "prediction_actual = {\n",
    "    'Actual': y_test,\n",
    "    'Prediction': predictions\n",
    "}\n",
    "\n",
    "new_df = pd.DataFrame(prediction_actual)\n",
    "new_df = new_df.set_index('Actual').reset_index()\n",
    "new_df.head(5)"
   ]
  },
  {
   "cell_type": "code",
   "execution_count": 22,
   "metadata": {},
   "outputs": [
    {
     "data": {
      "text/html": [
       "<div>\n",
       "<style scoped>\n",
       "    .dataframe tbody tr th:only-of-type {\n",
       "        vertical-align: middle;\n",
       "    }\n",
       "\n",
       "    .dataframe tbody tr th {\n",
       "        vertical-align: top;\n",
       "    }\n",
       "\n",
       "    .dataframe thead th {\n",
       "        text-align: right;\n",
       "    }\n",
       "</style>\n",
       "<table border=\"1\" class=\"dataframe\">\n",
       "  <thead>\n",
       "    <tr style=\"text-align: right;\">\n",
       "      <th></th>\n",
       "      <th>Accuracy</th>\n",
       "    </tr>\n",
       "    <tr>\n",
       "      <th></th>\n",
       "      <th></th>\n",
       "    </tr>\n",
       "  </thead>\n",
       "  <tbody>\n",
       "    <tr>\n",
       "      <th>Base Model</th>\n",
       "      <td>86.213%</td>\n",
       "    </tr>\n",
       "    <tr>\n",
       "      <th>Select Features Model</th>\n",
       "      <td>86.213%</td>\n",
       "    </tr>\n",
       "    <tr>\n",
       "      <th>Tuned Model</th>\n",
       "      <td>89.474%</td>\n",
       "    </tr>\n",
       "  </tbody>\n",
       "</table>\n",
       "</div>"
      ],
      "text/plain": [
       "                      Accuracy\n",
       "                              \n",
       "Base Model             86.213%\n",
       "Select Features Model  86.213%\n",
       "Tuned Model            89.474%"
      ]
     },
     "execution_count": 22,
     "metadata": {},
     "output_type": "execute_result"
    }
   ],
   "source": [
    "# evaluations\n",
    "evaluations = {'': ['Base Model', 'Select Features Model', 'Tuned Model'],\n",
    "               'Accuracy': [f\"{test_score}%\", f\"{test_score_two}%\", f\"{test_score_three}%\"]}\n",
    "\n",
    "evaluations_df = pd.DataFrame(evaluations)\n",
    "evaluations_df = evaluations_df.set_index('')\n",
    "\n",
    "evaluations_df"
   ]
  },
  {
   "cell_type": "code",
   "execution_count": 23,
   "metadata": {},
   "outputs": [],
   "source": [
    "# save your model by updating \"your_name\" with your name\n",
    "# and \"your_model\" with your model variable\n",
    "# be sure to turn this in to BCS\n",
    "# if joblib fails to import, try running the command to install in terminal/git-bash\n",
    "\n",
    "filename = 'olivesun.sav'\n",
    "_=joblib.dump(model_four, filename)"
   ]
  },
  {
   "cell_type": "code",
   "execution_count": null,
   "metadata": {},
   "outputs": [],
   "source": []
  }
 ],
 "metadata": {
  "kernel_info": {
   "name": "dev"
  },
  "kernelspec": {
   "display_name": "Python 3",
   "language": "python",
   "name": "python3"
  },
  "language_info": {
   "codemirror_mode": {
    "name": "ipython",
    "version": 3
   },
   "file_extension": ".py",
   "mimetype": "text/x-python",
   "name": "python",
   "nbconvert_exporter": "python",
   "pygments_lexer": "ipython3",
   "version": "3.7.6"
  },
  "nteract": {
   "version": "0.12.3"
  }
 },
 "nbformat": 4,
 "nbformat_minor": 2
}
